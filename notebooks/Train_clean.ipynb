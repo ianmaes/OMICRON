{
 "cells": [
  {
   "cell_type": "code",
   "execution_count": 21,
   "metadata": {},
   "outputs": [
    {
     "name": "stdout",
     "output_type": "stream",
     "text": [
      "Available GPUs: 1\n",
      "GPU 0: NVIDIA GeForce RTX 3060 Laptop GPU\n",
      "cuda:0\n"
     ]
    }
   ],
   "source": [
    "import os\n",
    "import torch\n",
    "import torch.nn as nn \n",
    "os.environ[\"CUDA_DEVICE_ORDER\"]=\"PCI_BUS_ID\"  \n",
    "os.environ[\"CUDA_VISIBLE_DEVICES\"]=\"0\" # GPU index\n",
    "\n",
    "print(\"Available GPUs:\", torch.cuda.device_count())\n",
    "for i in range(torch.cuda.device_count()):\n",
    "    print(f\"GPU {i}: {torch.cuda.get_device_name(i)}\")\n",
    "\n",
    "device = torch.device('cuda:0' if torch.cuda.is_available() else 'cpu')\n",
    "torch.cuda.set_device(device)\n",
    "print(device)"
   ]
  },
  {
   "cell_type": "code",
   "execution_count": 22,
   "metadata": {},
   "outputs": [
    {
     "name": "stdout",
     "output_type": "stream",
     "text": [
      "The autoreload extension is already loaded. To reload it, use:\n",
      "  %reload_ext autoreload\n"
     ]
    }
   ],
   "source": [
    "%load_ext autoreload\n",
    "%autoreload 2"
   ]
  },
  {
   "cell_type": "code",
   "execution_count": 23,
   "metadata": {},
   "outputs": [],
   "source": [
    "import torch \n",
    "import sys\n",
    "sys.path.insert(1, os.path.join(\"..\", \"data\"))\n",
    "sys.path.insert(1, os.path.join(\"..\", \"utils\"))\n",
    "from data_utils import Dataset\n",
    "from plot_utils import plot_image\n",
    "from torch.utils.data import DataLoader"
   ]
  },
  {
   "cell_type": "code",
   "execution_count": 24,
   "metadata": {},
   "outputs": [],
   "source": [
    "# Path to the data folder (update the variable to your path).\n",
    "path_data=os.path.join(\"..\", \"data\")\n",
    "# Seed value\n",
    "seed=1001"
   ]
  },
  {
   "cell_type": "code",
   "execution_count": 25,
   "metadata": {},
   "outputs": [
    {
     "name": "stderr",
     "output_type": "stream",
     "text": [
      "Parsing class: Cloud: 143it [00:07, 19.94it/s]\n",
      "Parsing class: Edge: 97it [00:04, 23.67it/s]\n",
      "Parsing class: Good: 64it [00:03, 19.61it/s]\n"
     ]
    },
    {
     "data": {
      "text/html": [
       "<div>\n",
       "<style scoped>\n",
       "    .dataframe tbody tr th:only-of-type {\n",
       "        vertical-align: middle;\n",
       "    }\n",
       "\n",
       "    .dataframe tbody tr th {\n",
       "        vertical-align: top;\n",
       "    }\n",
       "\n",
       "    .dataframe thead th {\n",
       "        text-align: right;\n",
       "    }\n",
       "</style>\n",
       "<table border=\"1\" class=\"dataframe\">\n",
       "  <thead>\n",
       "    <tr style=\"text-align: right;\">\n",
       "      <th></th>\n",
       "      <th>train</th>\n",
       "      <th>valid</th>\n",
       "      <th>test</th>\n",
       "    </tr>\n",
       "  </thead>\n",
       "  <tbody>\n",
       "    <tr>\n",
       "      <th>cloud</th>\n",
       "      <td>100</td>\n",
       "      <td>24</td>\n",
       "      <td>19</td>\n",
       "    </tr>\n",
       "    <tr>\n",
       "      <th>edge</th>\n",
       "      <td>64</td>\n",
       "      <td>15</td>\n",
       "      <td>18</td>\n",
       "    </tr>\n",
       "    <tr>\n",
       "      <th>good</th>\n",
       "      <td>48</td>\n",
       "      <td>7</td>\n",
       "      <td>9</td>\n",
       "    </tr>\n",
       "  </tbody>\n",
       "</table>\n",
       "</div>"
      ],
      "text/plain": [
       "       train  valid  test\n",
       "cloud    100     24    19\n",
       "edge      64     15    18\n",
       "good      48      7     9"
      ]
     },
     "execution_count": 25,
     "metadata": {},
     "output_type": "execute_result"
    }
   ],
   "source": [
    "dataset=Dataset(path_data=path_data, seed=seed)\n",
    "dataset.read_data()\n",
    "dataset.get_statistics()"
   ]
  },
  {
   "cell_type": "code",
   "execution_count": 26,
   "metadata": {},
   "outputs": [],
   "source": [
    "batch_size=32\n",
    "# Train loader\n",
    "train_loader = DataLoader(dataset.get_split(\"train\"), batch_size=batch_size, pin_memory=False, shuffle=True)\n",
    "# Cross validation data loader\n",
    "valid_loader = DataLoader(dataset.get_split(\"valid\"), batch_size=batch_size, pin_memory=False, shuffle=True)\n",
    "# Test data loader\n",
    "test_loader = DataLoader(dataset.get_split(\"test\"), batch_size=batch_size, pin_memory=False, shuffle=True)"
   ]
  },
  {
   "cell_type": "code",
   "execution_count": 27,
   "metadata": {},
   "outputs": [],
   "source": [
    "classes = ('cloud', 'edge', 'good')"
   ]
  },
  {
   "cell_type": "markdown",
   "metadata": {},
   "source": [
    "Start of training loop"
   ]
  },
  {
   "cell_type": "code",
   "execution_count": 28,
   "metadata": {},
   "outputs": [],
   "source": [
    "import torch.nn.functional as F \n",
    "import numpy as np\n",
    "import matplotlib.pyplot as plt\n",
    "import matplotlib.patches as patches\n",
    "\n",
    "def resize_tensor_images(images, size=(256, 256)):\n",
    "    # Resize the batch of images\n",
    "    return F.interpolate(images, size=size, mode='bilinear', align_corners=False)\n",
    "\n",
    "def compute_mean_std(loader):\n",
    "    # Computation of mean and standard deviation of batches\n",
    "    mean = 0.\n",
    "    std = 0.\n",
    "    total_images_count = 0\n",
    "\n",
    "    for images, _ in loader:\n",
    "        batch_samples = images.size(0)\n",
    "        images = images.view(batch_samples, images.size(1), -1)\n",
    "        mean += images.mean(2).sum(0)\n",
    "        std += images.std(2).sum(0)\n",
    "        total_images_count += batch_samples\n",
    "\n",
    "    mean /= total_images_count\n",
    "    std /= total_images_count\n",
    "\n",
    "    return mean, std\n",
    "\n",
    "def normalize_images(images, mean, std):\n",
    "    # Normalizing images with previously computed mean and standard deviation\n",
    "    normalized_images = (images - mean.view(-1, 1, 1)) / std.view(-1, 1, 1)\n",
    "    return normalized_images\n",
    "    \n",
    "def tensor_to_numpy(tensor):\n",
    "    # Rescale the tensor to 0-1 range\n",
    "    tensor = tensor - tensor.min()\n",
    "    tensor = tensor / tensor.max()\n",
    "    # Move the tensor to CPU if it's on GPU\n",
    "    tensor = tensor.cpu()\n",
    "    # Convert to numpy and transpose from CxHxW to HxWxC for visualization\n",
    "    numpy_image = tensor.numpy()\n",
    "    numpy_image = np.transpose(numpy_image, (1, 2, 0))\n",
    "\n",
    "    return numpy_image"
   ]
  },
  {
   "cell_type": "code",
   "execution_count": 29,
   "metadata": {},
   "outputs": [],
   "source": [
    "mean, std = compute_mean_std(test_loader)"
   ]
  },
  {
   "cell_type": "code",
   "execution_count": 30,
   "metadata": {},
   "outputs": [],
   "source": [
    "def normalization(data_loader, mean, std):\n",
    "    UNPRO_batches = []\n",
    "    batches = []\n",
    "    \n",
    "    for batch in data_loader:\n",
    "        images, labels = batch\n",
    "        resized_images = resize_tensor_images(images)\n",
    "        UNPRO_batches.append((resized_images, labels))\n",
    "        normalized_alldata_images = normalize_images(resized_images, mean, std)\n",
    "\n",
    "        # Append the normalized images and their corresponding labels to the list\n",
    "        batches.append((normalized_alldata_images, labels))\n",
    "    return UNPRO_batches, batches\n",
    "\n",
    "UNPRO_batches_TRL, batches_TRL = normalization(train_loader, mean, std)\n",
    "UNPRO_batches_VAL, batches_VAL = normalization(valid_loader, mean, std)\n",
    "UNPRO_batches_TST, batches_TST = normalization(test_loader, mean, std)\n"
   ]
  },
  {
   "cell_type": "code",
   "execution_count": 31,
   "metadata": {},
   "outputs": [],
   "source": [
    "import torch.nn as nn\n",
    "import torch.nn.functional as F\n",
    "\n",
    "class Net(nn.Module):\n",
    "    def __init__(self):\n",
    "        super().__init__()\n",
    "        self.conv_layer_1 = nn.Sequential(\n",
    "            nn.Conv2d(3, 25, kernel_size=3, padding=1),\n",
    "            nn.BatchNorm2d(25),\n",
    "            nn.ReLU(),\n",
    "            nn.Conv2d(25, 25, kernel_size=3, padding=1),\n",
    "            nn.ReLU(),\n",
    "        )\n",
    "        self.conv_layer_2 = nn.Sequential(\n",
    "            nn.Conv2d(25, 25, kernel_size=3, padding=1),\n",
    "            nn.ReLU(),\n",
    "            nn.Conv2d(25, 25, kernel_size=3, padding=1),\n",
    "            nn.ReLU(),\n",
    "            nn.MaxPool2d(2, 2)\n",
    "        )\n",
    "\n",
    "        self.classifier = nn.Sequential(\n",
    "            nn.Flatten(),\n",
    "            nn.Linear(in_features=409600,\n",
    "                      out_features=3)\n",
    "        )\n",
    "    def forward(self, x):\n",
    "\n",
    "        x = self.conv_layer_1(x)\n",
    "        x = self.conv_layer_2(x)\n",
    "        x = self.classifier(x)\n",
    "\n",
    "        return x\n",
    "    \n",
    "net = Net().to(device)"
   ]
  },
  {
   "cell_type": "code",
   "execution_count": 32,
   "metadata": {},
   "outputs": [],
   "source": [
    "import torch.optim as optim\n",
    "\n",
    "loss_fn = nn.CrossEntropyLoss()\n",
    "optimizer = optim.SGD(net.parameters(), lr=0.001, momentum=0.9)"
   ]
  },
  {
   "cell_type": "code",
   "execution_count": 40,
   "metadata": {},
   "outputs": [],
   "source": [
    "from torchmetrics import Accuracy\n",
    "accuracy_fn = Accuracy(task=\"multiclass\", num_classes=3).to(device)"
   ]
  },
  {
   "cell_type": "code",
   "execution_count": 35,
   "metadata": {},
   "outputs": [],
   "source": [
    "def train_step(model: torch.nn.Module,\n",
    "               batches,\n",
    "               loss_fn,\n",
    "               optimizer,\n",
    "               accuracy,\n",
    "               device: torch.device = device):\n",
    "    model.train()\n",
    "    train_loss, train_acc = 0, 0\n",
    "\n",
    "    for batch, (images, labels) in enumerate(batches, 0):\n",
    "        \n",
    "        images, labels = images.to(device), labels.to(device)\n",
    "\n",
    "        y_logits = model(images)\n",
    "\n",
    "        # Calculate loss on 1 batch of data\n",
    "        loss = loss_fn(y_logits, labels)\n",
    "        acc = accuracy(y_logits.argmax(dim=-1), labels)\n",
    "        train_loss += loss\n",
    "        train_acc += acc\n",
    "\n",
    "        optimizer.zero_grad()\n",
    "        loss.backward()\n",
    "        optimizer.step()\n",
    "\n",
    "    train_acc = train_acc / len(batches)\n",
    "    train_loss = train_loss / len(batches)\n",
    "\n",
    "    print(f\"Training Accuracy: {train_acc*100:.3f}, Train Loss: {train_loss:.3f}\")\n",
    "    return train_acc, train_loss"
   ]
  },
  {
   "cell_type": "code",
   "execution_count": 36,
   "metadata": {},
   "outputs": [],
   "source": [
    "def validation_step(model,\n",
    "              batches,\n",
    "              loss_fn,\n",
    "              accuracy,\n",
    "              device: torch.device = device):\n",
    "    validation_loss, validation_acc = 0, 0\n",
    "    model.eval()\n",
    "    with torch.inference_mode():\n",
    "        for images_validation, labels_validation in batches:\n",
    "            images_validation, labels_validation = images_validation.to(device), labels_validation.to(device)\n",
    "            \n",
    "            validation_logits = model(images_validation)\n",
    "            validation_loss += loss_fn(validation_logits, labels_validation)\n",
    "            validation_acc += accuracy(validation_logits.argmax(dim=-1), labels_validation)\n",
    "\n",
    "        validation_loss /= len(batches)\n",
    "        validation_acc /= len(batches)\n",
    "    print(f\"Validation Loss: {validation_loss:.4f}, Validation Accuracy: {validation_acc*100:.4f}%\")\n",
    "    return validation_acc, validation_loss"
   ]
  },
  {
   "cell_type": "code",
   "execution_count": 43,
   "metadata": {},
   "outputs": [
    {
     "name": "stdout",
     "output_type": "stream",
     "text": [
      "Training Accuracy: 77.321, Train Loss: 0.688\n",
      "Validation Loss: 2.1859, Validation Accuracy: 49.5536%\n",
      "Validation Loss: 1.7504, Validation Accuracy: 63.8393%\n",
      "Training Accuracy: 78.750, Train Loss: 0.615\n",
      "Validation Loss: 1.1888, Validation Accuracy: 52.6786%\n",
      "Validation Loss: 1.0105, Validation Accuracy: 65.4018%\n",
      "Training Accuracy: 82.143, Train Loss: 0.487\n",
      "Validation Loss: 0.8381, Validation Accuracy: 59.3750%\n",
      "Validation Loss: 0.8412, Validation Accuracy: 68.9732%\n",
      "Training Accuracy: 82.946, Train Loss: 0.440\n",
      "Validation Loss: 0.6656, Validation Accuracy: 66.0714%\n",
      "Validation Loss: 0.7552, Validation Accuracy: 73.6607%\n",
      "Training Accuracy: 84.286, Train Loss: 0.380\n",
      "Validation Loss: 0.6857, Validation Accuracy: 64.5089%\n",
      "Validation Loss: 0.8123, Validation Accuracy: 77.2321%\n",
      "Training Accuracy: 84.286, Train Loss: 0.368\n",
      "Validation Loss: 0.6329, Validation Accuracy: 81.9196%\n",
      "Validation Loss: 0.7233, Validation Accuracy: 75.2232%\n",
      "Training Accuracy: 87.411, Train Loss: 0.302\n",
      "Validation Loss: 0.5589, Validation Accuracy: 79.9107%\n",
      "Validation Loss: 0.7055, Validation Accuracy: 80.8036%\n",
      "Training Accuracy: 90.089, Train Loss: 0.247\n",
      "Validation Loss: 0.7008, Validation Accuracy: 76.3393%\n",
      "Validation Loss: 1.0361, Validation Accuracy: 75.6696%\n",
      "Training Accuracy: 90.536, Train Loss: 0.227\n",
      "Validation Loss: 0.4639, Validation Accuracy: 83.4821%\n",
      "Validation Loss: 0.6618, Validation Accuracy: 80.8036%\n",
      "Training Accuracy: 90.982, Train Loss: 0.193\n",
      "Validation Loss: 0.7067, Validation Accuracy: 73.2143%\n",
      "Validation Loss: 0.9617, Validation Accuracy: 72.0982%\n"
     ]
    }
   ],
   "source": [
    "\n",
    "epochs = 10\n",
    "\n",
    "for epoch in range(epochs):\n",
    "    train_step(model=net,\n",
    "               batches=batches_TRL,\n",
    "               loss_fn=loss_fn,\n",
    "               optimizer=optimizer,\n",
    "               accuracy=accuracy_fn,\n",
    "               device=device\n",
    "               )\n",
    "    validation_step(model=net,\n",
    "              batches=batches_VAL,\n",
    "              loss_fn=loss_fn,\n",
    "              accuracy=accuracy_fn,\n",
    "              device=device)\n",
    "    validation_step(model=net,\n",
    "              batches=batches_TST,\n",
    "              loss_fn=loss_fn,\n",
    "              accuracy=accuracy_fn,\n",
    "              device=device)"
   ]
  }
 ],
 "metadata": {
  "kernelspec": {
   "display_name": "OMICRON",
   "language": "python",
   "name": "python3"
  },
  "language_info": {
   "codemirror_mode": {
    "name": "ipython",
    "version": 3
   },
   "file_extension": ".py",
   "mimetype": "text/x-python",
   "name": "python",
   "nbconvert_exporter": "python",
   "pygments_lexer": "ipython3",
   "version": "3.11.6"
  }
 },
 "nbformat": 4,
 "nbformat_minor": 2
}
