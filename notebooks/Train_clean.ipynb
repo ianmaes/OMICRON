{
 "cells": [
  {
   "cell_type": "code",
   "execution_count": 1,
   "metadata": {},
   "outputs": [
    {
     "name": "stdout",
     "output_type": "stream",
     "text": [
      "Available GPUs: 1\n",
      "GPU 0: NVIDIA GeForce RTX 3060 Laptop GPU\n",
      "cuda:0\n"
     ]
    }
   ],
   "source": [
    "import os\n",
    "import torch\n",
    "import torch.nn as nn \n",
    "os.environ[\"CUDA_DEVICE_ORDER\"]=\"PCI_BUS_ID\"  \n",
    "os.environ[\"CUDA_VISIBLE_DEVICES\"]=\"0\" # GPU index\n",
    "\n",
    "print(\"Available GPUs:\", torch.cuda.device_count())\n",
    "for i in range(torch.cuda.device_count()):\n",
    "    print(f\"GPU {i}: {torch.cuda.get_device_name(i)}\")\n",
    "\n",
    "device = torch.device('cuda:0' if torch.cuda.is_available() else 'cpu')\n",
    "torch.cuda.set_device(device)\n",
    "print(device)"
   ]
  },
  {
   "cell_type": "code",
   "execution_count": 2,
   "metadata": {},
   "outputs": [],
   "source": [
    "%load_ext autoreload\n",
    "%autoreload 2"
   ]
  },
  {
   "cell_type": "code",
   "execution_count": 3,
   "metadata": {},
   "outputs": [],
   "source": [
    "import torch \n",
    "import sys\n",
    "sys.path.insert(1, os.path.join(\"..\", \"data\"))\n",
    "sys.path.insert(1, os.path.join(\"..\", \"utils\"))\n",
    "from data_utils import Dataset\n",
    "from plot_utils import plot_image\n",
    "from torch.utils.data import DataLoader"
   ]
  },
  {
   "cell_type": "code",
   "execution_count": 4,
   "metadata": {},
   "outputs": [],
   "source": [
    "# Path to the data folder (update the variable to your path).\n",
    "path_data=os.path.join(\"..\", \"data\")\n",
    "# Seed value\n",
    "seed=333"
   ]
  },
  {
   "cell_type": "code",
   "execution_count": 5,
   "metadata": {},
   "outputs": [
    {
     "name": "stderr",
     "output_type": "stream",
     "text": [
      "Parsing class: Cloud: 143it [00:09, 15.57it/s]\n",
      "Parsing class: Edge: 97it [00:05, 18.06it/s]\n",
      "Parsing class: Good: 64it [00:04, 14.35it/s]\n"
     ]
    },
    {
     "data": {
      "text/html": [
       "<div>\n",
       "<style scoped>\n",
       "    .dataframe tbody tr th:only-of-type {\n",
       "        vertical-align: middle;\n",
       "    }\n",
       "\n",
       "    .dataframe tbody tr th {\n",
       "        vertical-align: top;\n",
       "    }\n",
       "\n",
       "    .dataframe thead th {\n",
       "        text-align: right;\n",
       "    }\n",
       "</style>\n",
       "<table border=\"1\" class=\"dataframe\">\n",
       "  <thead>\n",
       "    <tr style=\"text-align: right;\">\n",
       "      <th></th>\n",
       "      <th>train</th>\n",
       "      <th>valid</th>\n",
       "      <th>test</th>\n",
       "    </tr>\n",
       "  </thead>\n",
       "  <tbody>\n",
       "    <tr>\n",
       "      <th>cloud</th>\n",
       "      <td>102</td>\n",
       "      <td>22</td>\n",
       "      <td>19</td>\n",
       "    </tr>\n",
       "    <tr>\n",
       "      <th>edge</th>\n",
       "      <td>61</td>\n",
       "      <td>17</td>\n",
       "      <td>19</td>\n",
       "    </tr>\n",
       "    <tr>\n",
       "      <th>good</th>\n",
       "      <td>49</td>\n",
       "      <td>7</td>\n",
       "      <td>8</td>\n",
       "    </tr>\n",
       "  </tbody>\n",
       "</table>\n",
       "</div>"
      ],
      "text/plain": [
       "       train  valid  test\n",
       "cloud    102     22    19\n",
       "edge      61     17    19\n",
       "good      49      7     8"
      ]
     },
     "execution_count": 5,
     "metadata": {},
     "output_type": "execute_result"
    }
   ],
   "source": [
    "dataset=Dataset(path_data=path_data, seed=seed)\n",
    "dataset.read_data()\n",
    "dataset.get_statistics()"
   ]
  },
  {
   "cell_type": "code",
   "execution_count": 6,
   "metadata": {},
   "outputs": [],
   "source": [
    "batch_size=32\n",
    "# Train loader\n",
    "train_loader = DataLoader(dataset.get_split(\"train\"), batch_size=batch_size, pin_memory=False, shuffle=True)\n",
    "# Cross validation data loader\n",
    "valid_loader = DataLoader(dataset.get_split(\"valid\"), batch_size=batch_size, pin_memory=False, shuffle=True)\n",
    "# Test data loader\n",
    "test_loader = DataLoader(dataset.get_split(\"test\"), batch_size=batch_size, pin_memory=False, shuffle=True)"
   ]
  },
  {
   "cell_type": "code",
   "execution_count": 7,
   "metadata": {},
   "outputs": [],
   "source": [
    "classes = ('cloud', 'edge', 'good')"
   ]
  },
  {
   "cell_type": "markdown",
   "metadata": {},
   "source": [
    "Start of training loop"
   ]
  },
  {
   "cell_type": "code",
   "execution_count": 8,
   "metadata": {},
   "outputs": [],
   "source": [
    "import torch.nn.functional as F \n",
    "import numpy as np\n",
    "import matplotlib.pyplot as plt\n",
    "import matplotlib.patches as patches\n",
    "\n",
    "# def resize_tensor_images(images, size=(256, 128)):\n",
    "#     # Resize the batch of images\n",
    "#     return F.interpolate(images, size=size, mode='bilinear', align_corners=False)\n",
    "\n",
    "def compute_mean_std(loader):\n",
    "    # Computation of mean and standard deviation of batches\n",
    "\n",
    "\n",
    "    num_of_pixels_per_channel = 212 * 256 * 128  # This remains the same since we're doing it per channel\n",
    "\n",
    "    total_sum_channels = torch.tensor([0.0, 0.0, 0.0])  # One for each channel\n",
    "    for batch in loader:\n",
    "        # Assuming batch[0] contains image data in the shape [batch, channels, height, width]\n",
    "        total_sum_channels += batch[0].view(batch[0].size(0), batch[0].size(1), -1).sum(dim=[0, 2])\n",
    "\n",
    "    mean = total_sum_channels / num_of_pixels_per_channel\n",
    "\n",
    "    sum_of_squared_error_channels = torch.tensor([0.0, 0.0, 0.0])\n",
    "    for batch in loader:\n",
    "        # We subtract the mean for each channel and then square it\n",
    "        sum_of_squared_error_channels += ((batch[0] - mean.view(1, -1, 1, 1)) ** 2).view(batch[0].size(0), batch[0].size(1), -1).sum(dim=[0, 2])\n",
    "\n",
    "    std = torch.sqrt(sum_of_squared_error_channels / num_of_pixels_per_channel)\n",
    "    print(batch[0].shape)\n",
    "\n",
    "    print(mean, std)\n",
    "    # mean = 0.\n",
    "    # std = 0.\n",
    "    # total_images_count = 0\n",
    "\n",
    "    # for images, _ in loader:\n",
    "    #     batch_samples = images.size(0)\n",
    "    #     images = images.view(batch_samples, images.size(1), -1)\n",
    "    #     mean += images.mean(2).sum(0)\n",
    "    #     std += images.std(2).sum(0)\n",
    "    #     total_images_count += batch_samples\n",
    "\n",
    "    # mean /= total_images_count\n",
    "    # std /= total_images_count\n",
    "\n",
    "    return mean, std\n",
    "\n",
    "def normalize_images(images, mean, std):\n",
    "    # Normalizing images with previously computed mean and standard deviation\n",
    "    normalized_images = (images - mean.view(-1, 1, 1)) / std.view(-1, 1, 1)\n",
    "    return normalized_images\n",
    "    \n",
    "def tensor_to_numpy(tensor):\n",
    "    # Rescale the tensor to 0-1 range\n",
    "    tensor = tensor - tensor.min()\n",
    "    tensor = tensor / tensor.max()\n",
    "    # Move the tensor to CPU if it's on GPU\n",
    "    tensor = tensor.cpu()\n",
    "    # Convert to numpy and transpose from CxHxW to HxWxC for visualization\n",
    "    numpy_image = tensor.numpy()\n",
    "    numpy_image = np.transpose(numpy_image, (1, 2, 0))\n",
    "\n",
    "    return numpy_image"
   ]
  },
  {
   "cell_type": "code",
   "execution_count": 9,
   "metadata": {},
   "outputs": [
    {
     "name": "stdout",
     "output_type": "stream",
     "text": [
      "torch.Size([20, 3, 256, 128])\n",
      "tensor([ 67.3532, 112.6748, 114.7356]) tensor([60.8842, 82.8195, 81.8603])\n"
     ]
    }
   ],
   "source": [
    "mean, std = compute_mean_std(train_loader)"
   ]
  },
  {
   "cell_type": "code",
   "execution_count": 10,
   "metadata": {},
   "outputs": [],
   "source": [
    "def normalization(data_loader, mean, std):\n",
    "    UNPRO_batches = []\n",
    "    batches = []\n",
    "    \n",
    "    for batch in data_loader:\n",
    "        images, labels = batch\n",
    "        # resized_images = resize_tensor_images(images)\n",
    "        UNPRO_batches.append((images, labels))\n",
    "        normalized_alldata_images = normalize_images(images, mean, std)\n",
    "\n",
    "        # Append the normalized images and their corresponding labels to the list\n",
    "        batches.append((normalized_alldata_images, labels))\n",
    "    return UNPRO_batches, batches\n",
    "\n",
    "UNPRO_batches_TRL, batches_TRL = normalization(train_loader, mean, std)\n",
    "UNPRO_batches_VAL, batches_VAL = normalization(valid_loader, mean, std)\n",
    "UNPRO_batches_TST, batches_TST = normalization(test_loader, mean, std)\n"
   ]
  },
  {
   "cell_type": "code",
   "execution_count": 11,
   "metadata": {},
   "outputs": [],
   "source": [
    "import torch.nn as nn\n",
    "import torch.nn.functional as F\n",
    "\n",
    "class Net(nn.Module):\n",
    "    def __init__(self):\n",
    "        super().__init__()\n",
    "        self.conv_layer_1 = nn.Sequential(\n",
    "            nn.Conv2d(3, 64, kernel_size=3, padding=1),\n",
    "            nn.BatchNorm2d(64),\n",
    "            nn.ReLU(),\n",
    "            nn.MaxPool2d(2, 2),\n",
    "            nn.Conv2d(64, 128, kernel_size=3, padding=1),\n",
    "            nn.BatchNorm2d(128),\n",
    "            nn.ReLU(),\n",
    "            nn.MaxPool2d(2, 2)\n",
    "        )\n",
    "        self.conv_layer_2 = nn.Sequential(\n",
    "            nn.Conv2d(128, 256, kernel_size=3, padding=1),\n",
    "            nn.BatchNorm2d(256),\n",
    "            nn.ReLU(),\n",
    "            nn.MaxPool2d(2, 2),\n",
    "            nn.Conv2d(256, 256, kernel_size=3, padding=1), \n",
    "            nn.BatchNorm2d(256),\n",
    "            nn.ReLU(),\n",
    "            nn.MaxPool2d(2, 2),\n",
    "            nn.Conv2d(256, 512, kernel_size=3, padding=1), \n",
    "            nn.BatchNorm2d(512),\n",
    "            nn.ReLU(),\n",
    "            nn.Conv2d(512, 512, kernel_size=3, padding=1), \n",
    "            nn.BatchNorm2d(512),\n",
    "            nn.ReLU(),\n",
    "            nn.AvgPool2d(3, 3),\n",
    "        )\n",
    "\n",
    "        self.classifier = nn.Sequential(\n",
    "            nn.Flatten(),\n",
    "            nn.Linear(in_features=5120,\n",
    "                      out_features=200),\n",
    "            nn.ReLU(),\n",
    "            nn.Linear(in_features=200,\n",
    "                      out_features=3)\n",
    "        )\n",
    "    def forward(self, x):\n",
    "\n",
    "        x = self.conv_layer_1(x)\n",
    "        x = self.conv_layer_2(x)\n",
    "        x = self.classifier(x)\n",
    "\n",
    "        return x\n",
    "    \n",
    "net = Net().to(device)"
   ]
  },
  {
   "cell_type": "code",
   "execution_count": 12,
   "metadata": {},
   "outputs": [],
   "source": [
    "import torch.optim as optim\n",
    "\n",
    "cloud_count = 0\n",
    "edge_count = 0\n",
    "good_count = 0\n",
    "for image, label in dataset.get_split(\"train\"):\n",
    "    if label == 0: \n",
    "        cloud_count += 1\n",
    "    if label == 1: \n",
    "        edge_count += 1\n",
    "    if label == 2: \n",
    "        good_count += 1\n",
    "\n",
    "\n",
    "loss_fn = nn.CrossEntropyLoss(weight=torch.tensor([1, cloud_count/edge_count, cloud_count/good_count]).to(device))\n",
    "optimizer = optim.SGD(net.parameters(), lr=0.0001, momentum=0.9)"
   ]
  },
  {
   "cell_type": "code",
   "execution_count": 13,
   "metadata": {},
   "outputs": [],
   "source": [
    "from torchmetrics import Accuracy\n",
    "accuracy_fn = Accuracy(task=\"multiclass\", num_classes=3).to(device)"
   ]
  },
  {
   "cell_type": "code",
   "execution_count": 14,
   "metadata": {},
   "outputs": [],
   "source": [
    "def train_step(model: torch.nn.Module,\n",
    "               batches,\n",
    "               loss_fn,\n",
    "               optimizer,\n",
    "               accuracy,\n",
    "               device: torch.device = device):\n",
    "    model.train()\n",
    "    train_loss, train_acc = 0, 0\n",
    "\n",
    "    for batch, (images, labels) in enumerate(batches, 0):\n",
    "        \n",
    "        images, labels = images.to(device), labels.to(device)\n",
    "\n",
    "        y_logits = model(images)\n",
    "\n",
    "        # Calculate loss on 1 batch of data\n",
    "        loss = loss_fn(y_logits, labels)\n",
    "        acc = accuracy(y_logits.argmax(dim=-1), labels)\n",
    "        train_loss += loss\n",
    "        train_acc += acc\n",
    "\n",
    "        optimizer.zero_grad()\n",
    "        loss.backward()\n",
    "        optimizer.step()\n",
    "\n",
    "    train_acc = train_acc / len(batches)\n",
    "    train_loss = train_loss / len(batches)\n",
    "\n",
    "    print(f\"Train Loss: {train_loss:.4f}, Training Accuracy: {train_acc*100:.4f}\")\n",
    "    return train_acc, train_loss.cpu().detach().numpy()"
   ]
  },
  {
   "cell_type": "code",
   "execution_count": 15,
   "metadata": {},
   "outputs": [],
   "source": [
    "def validation_step(model,\n",
    "              batches,\n",
    "              loss_fn,\n",
    "              accuracy,\n",
    "              device: torch.device = device):\n",
    "    validation_loss, validation_acc = 0, 0\n",
    "    model.eval()\n",
    "    with torch.inference_mode():\n",
    "        for images_validation, labels_validation in batches:\n",
    "            images_validation, labels_validation = images_validation.to(device), labels_validation.to(device)\n",
    "            \n",
    "            validation_logits = model(images_validation)\n",
    "            validation_loss += loss_fn(validation_logits, labels_validation)\n",
    "            validation_acc += accuracy(validation_logits.argmax(dim=-1), labels_validation)\n",
    "\n",
    "        validation_loss /= len(batches)\n",
    "        validation_acc /= len(batches)\n",
    "    print(f\"Validation Loss: {validation_loss:.4f}, Validation Accuracy: {validation_acc*100:.4f}%\")\n",
    "    return validation_acc, validation_loss.cpu().detach().numpy()"
   ]
  },
  {
   "cell_type": "code",
   "execution_count": 16,
   "metadata": {},
   "outputs": [],
   "source": [
    "def test_step(model,\n",
    "              batches,\n",
    "              loss_fn,\n",
    "              accuracy,\n",
    "              device: torch.device = device):\n",
    "    test_loss, test_acc = 0, 0\n",
    "    model.eval()\n",
    "    with torch.inference_mode():\n",
    "        for images_test, labels_test in batches:\n",
    "            images_test, labels_test = images_test.to(device), labels_test.to(device)\n",
    "            \n",
    "            test_logits = model(images_test)\n",
    "            test_loss += loss_fn(test_logits, labels_test)\n",
    "            test_acc += accuracy(test_logits.argmax(dim=-1), labels_test)\n",
    "\n",
    "        test_loss /= len(batches)\n",
    "        test_acc /= len(batches)\n",
    "    print(f\"Test Loss: {test_loss:.4f}, Test Accuracy: {test_acc*100:.4f}%\")\n",
    "    return test_acc, test_loss.cpu()"
   ]
  },
  {
   "cell_type": "code",
   "execution_count": 17,
   "metadata": {},
   "outputs": [
    {
     "data": {
      "application/vnd.jupyter.widget-view+json": {
       "model_id": "d9c05b8a767a4fb2909ea7afa50552c6",
       "version_major": 2,
       "version_minor": 0
      },
      "text/plain": [
       "  0%|          | 0/200 [00:00<?, ?it/s]"
      ]
     },
     "metadata": {},
     "output_type": "display_data"
    },
    {
     "name": "stdout",
     "output_type": "stream",
     "text": [
      "Train Loss: 1.1078, Training Accuracy: 34.9107\n",
      "Validation Loss: 1.1039, Validation Accuracy: 12.9464%\n",
      "Test Loss: 1.1036, Test Accuracy: 18.5268%\n",
      "Train Loss: 1.0959, Training Accuracy: 36.4286\n",
      "Validation Loss: 1.1062, Validation Accuracy: 12.9464%\n",
      "Test Loss: 1.1056, Test Accuracy: 18.5268%\n",
      "Train Loss: 1.0786, Training Accuracy: 48.0357\n",
      "Validation Loss: 1.1073, Validation Accuracy: 12.9464%\n",
      "Test Loss: 1.1059, Test Accuracy: 18.5268%\n",
      "Train Loss: 1.0597, Training Accuracy: 55.7143\n",
      "Validation Loss: 1.1023, Validation Accuracy: 12.9464%\n",
      "Test Loss: 1.1004, Test Accuracy: 23.6607%\n",
      "Train Loss: 1.0408, Training Accuracy: 65.8036\n",
      "Validation Loss: 1.0890, Validation Accuracy: 40.1786%\n",
      "Test Loss: 1.0857, Test Accuracy: 35.0446%\n",
      "Train Loss: 1.0228, Training Accuracy: 67.5893\n",
      "Validation Loss: 1.0708, Validation Accuracy: 53.5714%\n",
      "Test Loss: 1.0593, Test Accuracy: 53.5714%\n",
      "Train Loss: 1.0059, Training Accuracy: 68.4821\n",
      "Validation Loss: 1.0551, Validation Accuracy: 55.1339%\n",
      "Test Loss: 1.0339, Test Accuracy: 57.8125%\n",
      "Train Loss: 0.9900, Training Accuracy: 69.8214\n",
      "Validation Loss: 1.0441, Validation Accuracy: 55.1339%\n",
      "Test Loss: 1.0122, Test Accuracy: 57.8125%\n",
      "Train Loss: 0.9751, Training Accuracy: 70.7143\n",
      "Validation Loss: 1.0352, Validation Accuracy: 52.0089%\n",
      "Test Loss: 0.9946, Test Accuracy: 57.8125%\n",
      "Train Loss: 0.9610, Training Accuracy: 70.7143\n",
      "Validation Loss: 1.0273, Validation Accuracy: 53.5714%\n",
      "Test Loss: 0.9801, Test Accuracy: 56.2500%\n",
      "Train Loss: 0.9477, Training Accuracy: 70.2679\n",
      "Validation Loss: 1.0202, Validation Accuracy: 55.1339%\n",
      "Test Loss: 0.9676, Test Accuracy: 59.8214%\n",
      "Train Loss: 0.9350, Training Accuracy: 71.1607\n",
      "Validation Loss: 1.0134, Validation Accuracy: 55.1339%\n",
      "Test Loss: 0.9562, Test Accuracy: 61.3839%\n",
      "Train Loss: 0.9229, Training Accuracy: 71.1607\n",
      "Validation Loss: 1.0071, Validation Accuracy: 55.1339%\n",
      "Test Loss: 0.9457, Test Accuracy: 61.3839%\n",
      "Train Loss: 0.9113, Training Accuracy: 70.7143\n",
      "Validation Loss: 1.0011, Validation Accuracy: 55.1339%\n",
      "Test Loss: 0.9358, Test Accuracy: 61.3839%\n",
      "Train Loss: 0.9002, Training Accuracy: 70.7143\n",
      "Validation Loss: 0.9955, Validation Accuracy: 55.1339%\n",
      "Test Loss: 0.9265, Test Accuracy: 62.9464%\n",
      "Train Loss: 0.8895, Training Accuracy: 70.9821\n",
      "Validation Loss: 0.9899, Validation Accuracy: 55.1339%\n",
      "Test Loss: 0.9175, Test Accuracy: 62.9464%\n",
      "Train Loss: 0.8792, Training Accuracy: 70.9821\n",
      "Validation Loss: 0.9846, Validation Accuracy: 55.1339%\n",
      "Test Loss: 0.9088, Test Accuracy: 62.9464%\n",
      "Train Loss: 0.8693, Training Accuracy: 70.9821\n",
      "Validation Loss: 0.9794, Validation Accuracy: 55.1339%\n",
      "Test Loss: 0.9004, Test Accuracy: 62.9464%\n",
      "Train Loss: 0.8597, Training Accuracy: 71.4286\n",
      "Validation Loss: 0.9743, Validation Accuracy: 55.1339%\n",
      "Test Loss: 0.8923, Test Accuracy: 62.9464%\n",
      "Train Loss: 0.8504, Training Accuracy: 71.4286\n",
      "Validation Loss: 0.9694, Validation Accuracy: 55.1339%\n",
      "Test Loss: 0.8844, Test Accuracy: 62.9464%\n",
      "Train Loss: 0.8414, Training Accuracy: 71.4286\n",
      "Validation Loss: 0.9648, Validation Accuracy: 55.1339%\n",
      "Test Loss: 0.8769, Test Accuracy: 62.9464%\n",
      "Train Loss: 0.8326, Training Accuracy: 70.9821\n",
      "Validation Loss: 0.9601, Validation Accuracy: 55.1339%\n",
      "Test Loss: 0.8697, Test Accuracy: 62.9464%\n",
      "Train Loss: 0.8241, Training Accuracy: 70.9821\n",
      "Validation Loss: 0.9556, Validation Accuracy: 55.1339%\n",
      "Test Loss: 0.8628, Test Accuracy: 62.9464%\n",
      "Train Loss: 0.8159, Training Accuracy: 72.3214\n",
      "Validation Loss: 0.9513, Validation Accuracy: 55.1339%\n",
      "Test Loss: 0.8561, Test Accuracy: 62.9464%\n",
      "Train Loss: 0.8079, Training Accuracy: 72.3214\n",
      "Validation Loss: 0.9472, Validation Accuracy: 55.1339%\n",
      "Test Loss: 0.8497, Test Accuracy: 62.9464%\n",
      "Train Loss: 0.8002, Training Accuracy: 73.2143\n",
      "Validation Loss: 0.9432, Validation Accuracy: 55.1339%\n",
      "Test Loss: 0.8436, Test Accuracy: 62.9464%\n",
      "Train Loss: 0.7927, Training Accuracy: 73.2143\n",
      "Validation Loss: 0.9393, Validation Accuracy: 56.6964%\n",
      "Test Loss: 0.8377, Test Accuracy: 62.9464%\n",
      "Train Loss: 0.7854, Training Accuracy: 73.2143\n",
      "Validation Loss: 0.9357, Validation Accuracy: 56.6964%\n",
      "Test Loss: 0.8320, Test Accuracy: 62.9464%\n",
      "Train Loss: 0.7783, Training Accuracy: 73.2143\n",
      "Validation Loss: 0.9321, Validation Accuracy: 56.6964%\n",
      "Test Loss: 0.8265, Test Accuracy: 62.9464%\n",
      "Train Loss: 0.7714, Training Accuracy: 73.6607\n",
      "Validation Loss: 0.9286, Validation Accuracy: 56.6964%\n",
      "Test Loss: 0.8212, Test Accuracy: 62.9464%\n",
      "Train Loss: 0.7647, Training Accuracy: 74.8214\n",
      "Validation Loss: 0.9251, Validation Accuracy: 56.6964%\n",
      "Test Loss: 0.8161, Test Accuracy: 62.9464%\n",
      "Train Loss: 0.7582, Training Accuracy: 74.8214\n",
      "Validation Loss: 0.9216, Validation Accuracy: 56.6964%\n",
      "Test Loss: 0.8111, Test Accuracy: 62.9464%\n",
      "Train Loss: 0.7518, Training Accuracy: 74.8214\n",
      "Validation Loss: 0.9182, Validation Accuracy: 56.6964%\n",
      "Test Loss: 0.8062, Test Accuracy: 62.9464%\n",
      "Train Loss: 0.7457, Training Accuracy: 75.2679\n",
      "Validation Loss: 0.9148, Validation Accuracy: 58.2589%\n",
      "Test Loss: 0.8016, Test Accuracy: 62.9464%\n",
      "Train Loss: 0.7396, Training Accuracy: 75.2679\n",
      "Validation Loss: 0.9115, Validation Accuracy: 58.2589%\n",
      "Test Loss: 0.7971, Test Accuracy: 62.9464%\n",
      "Train Loss: 0.7338, Training Accuracy: 76.4286\n",
      "Validation Loss: 0.9082, Validation Accuracy: 58.2589%\n",
      "Test Loss: 0.7926, Test Accuracy: 62.9464%\n",
      "Train Loss: 0.7280, Training Accuracy: 76.4286\n",
      "Validation Loss: 0.9050, Validation Accuracy: 58.2589%\n",
      "Test Loss: 0.7883, Test Accuracy: 64.5089%\n",
      "Train Loss: 0.7224, Training Accuracy: 76.4286\n",
      "Validation Loss: 0.9019, Validation Accuracy: 58.2589%\n",
      "Test Loss: 0.7841, Test Accuracy: 64.5089%\n",
      "Train Loss: 0.7169, Training Accuracy: 76.8750\n",
      "Validation Loss: 0.8989, Validation Accuracy: 58.2589%\n",
      "Test Loss: 0.7801, Test Accuracy: 68.0804%\n",
      "Train Loss: 0.7115, Training Accuracy: 76.8750\n",
      "Validation Loss: 0.8961, Validation Accuracy: 58.2589%\n",
      "Test Loss: 0.7761, Test Accuracy: 68.0804%\n",
      "Train Loss: 0.7063, Training Accuracy: 76.8750\n",
      "Validation Loss: 0.8935, Validation Accuracy: 58.2589%\n",
      "Test Loss: 0.7722, Test Accuracy: 68.0804%\n",
      "Train Loss: 0.7011, Training Accuracy: 76.8750\n",
      "Validation Loss: 0.8909, Validation Accuracy: 58.2589%\n",
      "Test Loss: 0.7685, Test Accuracy: 68.0804%\n",
      "Train Loss: 0.6961, Training Accuracy: 77.3214\n",
      "Validation Loss: 0.8885, Validation Accuracy: 58.2589%\n",
      "Test Loss: 0.7649, Test Accuracy: 68.0804%\n",
      "Train Loss: 0.6912, Training Accuracy: 77.3214\n",
      "Validation Loss: 0.8862, Validation Accuracy: 58.2589%\n",
      "Test Loss: 0.7614, Test Accuracy: 68.0804%\n",
      "Train Loss: 0.6863, Training Accuracy: 77.7679\n",
      "Validation Loss: 0.8839, Validation Accuracy: 58.2589%\n",
      "Test Loss: 0.7581, Test Accuracy: 68.0804%\n",
      "Train Loss: 0.6816, Training Accuracy: 78.2143\n",
      "Validation Loss: 0.8817, Validation Accuracy: 58.2589%\n",
      "Test Loss: 0.7548, Test Accuracy: 68.0804%\n",
      "Train Loss: 0.6770, Training Accuracy: 78.2143\n",
      "Validation Loss: 0.8795, Validation Accuracy: 58.2589%\n",
      "Test Loss: 0.7517, Test Accuracy: 68.0804%\n"
     ]
    }
   ],
   "source": [
    "from tqdm.auto import tqdm\n",
    "epochs = 200\n",
    "train_losses = []\n",
    "val_losses = []\n",
    "net.to(device)\n",
    "for epoch in tqdm(range(epochs)):\n",
    "    _, train_loss = train_step(model=net,\n",
    "               batches=batches_TRL,\n",
    "               loss_fn=loss_fn,\n",
    "               optimizer=optimizer,\n",
    "               accuracy=accuracy_fn,\n",
    "               device=device\n",
    "               )\n",
    "    _, val_loss = validation_step(model=net,\n",
    "              batches=batches_VAL,\n",
    "              loss_fn=loss_fn,\n",
    "              accuracy=accuracy_fn,\n",
    "              device=device)\n",
    "    test_step(model=net,\n",
    "              batches=batches_TST,\n",
    "              loss_fn=loss_fn,\n",
    "              accuracy=accuracy_fn,\n",
    "              device=device)\n",
    "    \n",
    "    train_losses.append(train_loss)\n",
    "    val_losses.append(val_loss)"
   ]
  },
  {
   "cell_type": "code",
   "execution_count": null,
   "metadata": {},
   "outputs": [
    {
     "data": {
      "text/plain": [
       "<All keys matched successfully>"
      ]
     },
     "execution_count": 98,
     "metadata": {},
     "output_type": "execute_result"
    }
   ],
   "source": [
    "# layer_info = '-'.join(map(str, layer_sizes[:-1]))\n",
    "txt = './e{}_b{}_s{}.pth'.format(epochs, batch_size, seed)\n",
    "PATH = txt\n",
    "# PATH = './test1.pth'\n",
    "torch.save(net.state_dict(), PATH)\n",
    "\n",
    "net = Net().to(device)\n",
    "net.load_state_dict(torch.load(PATH))"
   ]
  },
  {
   "cell_type": "code",
   "execution_count": null,
   "metadata": {},
   "outputs": [],
   "source": [
    "def concatenate_batches(batches):\n",
    "    images_norm = torch.tensor([])\n",
    "    for i, batch in enumerate(batches):\n",
    "        images_batch, labels_batch = batch\n",
    "        if i == 0:\n",
    "            images_norm = images_batch\n",
    "            labels_norm = labels_batch\n",
    "        else:\n",
    "            images_norm = torch.cat((images_norm, images_batch))\n",
    "            labels_norm = torch.cat((labels_norm, labels_batch))\n",
    "    return images_norm, labels_norm\n",
    "\n",
    "images_norm_TRL, labels_norm_TRL = concatenate_batches(batches_TRL)\n",
    "images_norm_VAL, labels_norm_VAL = concatenate_batches(batches_VAL)\n",
    "images_norm_TST, labels_norm_TST = concatenate_batches(batches_TST)\n",
    "\n",
    "images_og_TST, labels_og_TST = concatenate_batches(UNPRO_batches_TST)"
   ]
  },
  {
   "cell_type": "code",
   "execution_count": null,
   "metadata": {},
   "outputs": [],
   "source": [
    "net.to('cpu')\n",
    "\n",
    "outputs_TST = net(images_norm_TST.to('cpu'))"
   ]
  },
  {
   "cell_type": "code",
   "execution_count": null,
   "metadata": {},
   "outputs": [],
   "source": [
    "_, predicted_TST = torch.max(outputs_TST, 1)\n",
    "\n",
    "predictions_TST = [classes[predicted_TST[j]] for j in range(46)]"
   ]
  },
  {
   "cell_type": "code",
   "execution_count": null,
   "metadata": {},
   "outputs": [
    {
     "name": "stderr",
     "output_type": "stream",
     "text": [
      "C:\\Users\\ianma\\AppData\\Local\\Temp\\ipykernel_4948\\3580363954.py:9: UserWarning: To copy construct from a tensor, it is recommended to use sourceTensor.clone().detach() or sourceTensor.clone().detach().requires_grad_(True), rather than torch.tensor(sourceTensor).\n",
      "  target = torch.tensor(labels_og_TST)\n"
     ]
    },
    {
     "name": "stdout",
     "output_type": "stream",
     "text": [
      "      0     1    2\n",
      "0  18.0   0.0  3.0\n",
      "1   3.0  16.0  0.0\n",
      "2   1.0   0.0  5.0\n"
     ]
    },
    {
     "data": {
      "text/plain": [
       "<Axes: >"
      ]
     },
     "execution_count": 102,
     "metadata": {},
     "output_type": "execute_result"
    },
    {
     "data": {
      "image/png": "[encoded data removed]",
      "text/plain": [
       "<Figure size 640x480 with 2 Axes>"
      ]
     },
     "metadata": {},
     "output_type": "display_data"
    }
   ],
   "source": [
    "from torcheval.metrics import MulticlassConfusionMatrix\n",
    "import seaborn as sn\n",
    "import pandas as pd\n",
    "class_mapping = {'cloud': 0, 'edge':1, 'good':2}\n",
    "\n",
    "\n",
    "input = predictions_TST\n",
    "input = torch.tensor([class_mapping[class_name] for class_name in input])\n",
    "target = torch.tensor(labels_og_TST)\n",
    "\n",
    "metric = MulticlassConfusionMatrix(3)\n",
    "metric.update(input=input, target=target)\n",
    "confmat = metric.compute()\n",
    "confmat = pd.DataFrame(confmat)\n",
    "print(confmat)\n",
    "confmat.rename(index={0: 'True Cloud', 1: 'True Edge', 2: 'True Good'}, inplace=True)\n",
    "confmat.rename(columns={0: 'pred Cloud', 1: 'pred Edge', 2: 'pred Good'}, inplace=True)\n",
    "\n",
    "\n",
    "sn.heatmap(confmat, annot=True)"
   ]
  },
  {
   "cell_type": "code",
   "execution_count": null,
   "metadata": {},
   "outputs": [],
   "source": [
    "fig, axs = plt.subplots(46, 4, figsize=(12, 4 * 46))\n",
    "\n",
    "for i in range(len(images_norm_TST)):\n",
    "    og_img = tensor_to_numpy(images_og_TST[i])\n",
    "    norm_img = tensor_to_numpy(images_norm_TST[i])\n",
    "    \n",
    "    axs[i, 0].imshow(og_img)\n",
    "    axs[i, 0].axis('off')\n",
    "\n",
    "    # Plot the second image\n",
    "    axs[i, 1].imshow(norm_img)  # Assuming there are always pairs of images\n",
    "    axs[i, 1].axis('off')\n",
    "\n",
    "    # Plot the first text box\n",
    "    axs[i, 2].text(0.5, 0.5, classes[labels_norm_TST[i]], ha='center', va='center', fontsize=12, color='black')\n",
    "    axs[i, 2].axis('off')\n",
    "\n",
    "    # Plot the second text box\n",
    "    axs[i, 3].text(0.5, 0.5, 'prediction: ' + str(predictions_TST[i]), ha='center', va='center', fontsize=12, color='black')\n",
    "    axs[i, 3].axis('off')\n",
    "# plt.tight_layout()\n",
    "    # plt.tight_layout()\n",
    "    if predictions_TST[i] == classes[labels_norm_TST[i]]:\n",
    "        row_color = 'lightblue'  # Set to blue if the condition is true\n",
    "    else:\n",
    "        row_color = 'yellow'  # Set to yellow if the condition is false\n",
    "\n",
    "    rect = patches.Rectangle((0, 0), 1, 1, linewidth=0, edgecolor='none', facecolor=row_color, alpha=0.5)\n",
    "    axs[i, 0].add_patch(rect)\n",
    "    axs[i, 1].add_patch(patches.Rectangle((0, 0), 1, 1, linewidth=0, edgecolor='none', facecolor=row_color, alpha=0.5))\n",
    "    axs[i, 2].add_patch(patches.Rectangle((0, 0), 1, 1, linewidth=0, edgecolor='none', facecolor=row_color, alpha=0.5))\n",
    "    axs[i, 3].add_patch(patches.Rectangle((0, 0), 1, 1, linewidth=0, edgecolor='none', facecolor=row_color, alpha=0.5))\n",
    "\n",
    "# plt.show()"
   ]
  },
  {
   "cell_type": "code",
   "execution_count": null,
   "metadata": {},
   "outputs": [
    {
     "data": {
      "image/png": "[encoded data removed]",
      "text/plain": [
       "<Figure size 1000x600 with 1 Axes>"
      ]
     },
     "metadata": {},
     "output_type": "display_data"
    }
   ],
   "source": [
    "epochs = range(1, len(train_losses) + 1)\n",
    "\n",
    "# Create a plot\n",
    "plt.figure(figsize=(10, 6))\n",
    "plt.plot(epochs, train_losses, 'bo-', label='Training loss')\n",
    "plt.plot(epochs, val_losses, 'ro-', label='Cross-validation loss')\n",
    "plt.title('Training and Cross-validation Loss')\n",
    "plt.xlabel('Epochs')\n",
    "plt.ylabel('Loss')\n",
    "plt.legend()\n",
    "\n",
    "# Show the plot\n",
    "plt.show()"
   ]
  },
  {
   "cell_type": "code",
   "execution_count": null,
   "metadata": {},
   "outputs": [
    {
     "name": "stdout",
     "output_type": "stream",
     "text": [
      "The percentage of false negatives is :  33.333333333333336 %\n"
     ]
    }
   ],
   "source": [
    "false_negatives = 0\n",
    "total_labels_TST = 0\n",
    "\n",
    "for i in range(len(predictions_TST)):\n",
    "    if predictions_TST[i] != 'good' and labels_og_TST[i] == 2:\n",
    "        false_negatives += 1\n",
    "    if labels_og_TST[i] == 2:\n",
    "        total_labels_TST += 1\n",
    "\n",
    "percentage_false_negatives = 100 * false_negatives / total_labels_TST\n",
    "print(\"The percentage of false negatives is : \", percentage_false_negatives, \"%\")"
   ]
  }
 ],
 "metadata": {
  "kernelspec": {
   "display_name": "OMICRON",
   "language": "python",
   "name": "python3"
  },
  "language_info": {
   "codemirror_mode": {
    "name": "ipython",
    "version": 3
   },
   "file_extension": ".py",
   "mimetype": "text/x-python",
   "name": "python",
   "nbconvert_exporter": "python",
   "pygments_lexer": "ipython3",
   "version": "3.11.6"
  }
 },
 "nbformat": 4,
 "nbformat_minor": 2
}
