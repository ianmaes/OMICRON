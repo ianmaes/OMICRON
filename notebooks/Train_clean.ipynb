{
 "cells": [
  {
   "cell_type": "code",
   "execution_count": 62,
   "metadata": {},
   "outputs": [
    {
     "name": "stdout",
     "output_type": "stream",
     "text": [
      "Available GPUs: 1\n",
      "GPU 0: NVIDIA GeForce RTX 3060 Laptop GPU\n",
      "cuda:0\n"
     ]
    }
   ],
   "source": [
    "import os\n",
    "import torch\n",
    "import torch.nn as nn \n",
    "os.environ[\"CUDA_DEVICE_ORDER\"]=\"PCI_BUS_ID\"  \n",
    "os.environ[\"CUDA_VISIBLE_DEVICES\"]=\"0\" # GPU index\n",
    "\n",
    "print(\"Available GPUs:\", torch.cuda.device_count())\n",
    "for i in range(torch.cuda.device_count()):\n",
    "    print(f\"GPU {i}: {torch.cuda.get_device_name(i)}\")\n",
    "\n",
    "device = torch.device('cuda:0' if torch.cuda.is_available() else 'cpu')\n",
    "torch.cuda.set_device(device)\n",
    "print(device)"
   ]
  },
  {
   "cell_type": "code",
   "execution_count": 63,
   "metadata": {},
   "outputs": [
    {
     "name": "stdout",
     "output_type": "stream",
     "text": [
      "The autoreload extension is already loaded. To reload it, use:\n",
      "  %reload_ext autoreload\n"
     ]
    }
   ],
   "source": [
    "%load_ext autoreload\n",
    "%autoreload 2"
   ]
  },
  {
   "cell_type": "code",
   "execution_count": 64,
   "metadata": {},
   "outputs": [],
   "source": [
    "import torch \n",
    "import sys\n",
    "sys.path.insert(1, os.path.join(\"..\", \"data\"))\n",
    "sys.path.insert(1, os.path.join(\"..\", \"utils\"))\n",
    "from data_utils import Dataset\n",
    "from plot_utils import plot_image\n",
    "from torch.utils.data import DataLoader"
   ]
  },
  {
   "cell_type": "code",
   "execution_count": 65,
   "metadata": {},
   "outputs": [],
   "source": [
    "# Path to the data folder (update the variable to your path).\n",
    "path_data=os.path.join(\"..\", \"data\")\n",
    "# Seed value\n",
    "seed=1001"
   ]
  },
  {
   "cell_type": "code",
   "execution_count": 66,
   "metadata": {},
   "outputs": [
    {
     "name": "stderr",
     "output_type": "stream",
     "text": [
      "Parsing class: Cloud: 143it [00:08, 17.75it/s]\n",
      "Parsing class: Edge: 97it [00:04, 21.99it/s]\n",
      "Parsing class: Good: 64it [00:03, 19.11it/s]\n"
     ]
    },
    {
     "data": {
      "text/html": [
       "<div>\n",
       "<style scoped>\n",
       "    .dataframe tbody tr th:only-of-type {\n",
       "        vertical-align: middle;\n",
       "    }\n",
       "\n",
       "    .dataframe tbody tr th {\n",
       "        vertical-align: top;\n",
       "    }\n",
       "\n",
       "    .dataframe thead th {\n",
       "        text-align: right;\n",
       "    }\n",
       "</style>\n",
       "<table border=\"1\" class=\"dataframe\">\n",
       "  <thead>\n",
       "    <tr style=\"text-align: right;\">\n",
       "      <th></th>\n",
       "      <th>train</th>\n",
       "      <th>valid</th>\n",
       "      <th>test</th>\n",
       "    </tr>\n",
       "  </thead>\n",
       "  <tbody>\n",
       "    <tr>\n",
       "      <th>cloud</th>\n",
       "      <td>100</td>\n",
       "      <td>24</td>\n",
       "      <td>19</td>\n",
       "    </tr>\n",
       "    <tr>\n",
       "      <th>edge</th>\n",
       "      <td>64</td>\n",
       "      <td>15</td>\n",
       "      <td>18</td>\n",
       "    </tr>\n",
       "    <tr>\n",
       "      <th>good</th>\n",
       "      <td>48</td>\n",
       "      <td>7</td>\n",
       "      <td>9</td>\n",
       "    </tr>\n",
       "  </tbody>\n",
       "</table>\n",
       "</div>"
      ],
      "text/plain": [
       "       train  valid  test\n",
       "cloud    100     24    19\n",
       "edge      64     15    18\n",
       "good      48      7     9"
      ]
     },
     "execution_count": 66,
     "metadata": {},
     "output_type": "execute_result"
    }
   ],
   "source": [
    "dataset=Dataset(path_data=path_data, seed=seed)\n",
    "dataset.read_data()\n",
    "dataset.get_statistics()"
   ]
  },
  {
   "cell_type": "code",
   "execution_count": 67,
   "metadata": {},
   "outputs": [],
   "source": [
    "batch_size=32\n",
    "# Train loader\n",
    "train_loader = DataLoader(dataset.get_split(\"train\"), batch_size=batch_size, pin_memory=False, shuffle=True)\n",
    "# Cross validation data loader\n",
    "valid_loader = DataLoader(dataset.get_split(\"valid\"), batch_size=batch_size, pin_memory=False, shuffle=True)\n",
    "# Test data loader\n",
    "test_loader = DataLoader(dataset.get_split(\"test\"), batch_size=batch_size, pin_memory=False, shuffle=True)"
   ]
  },
  {
   "cell_type": "code",
   "execution_count": 68,
   "metadata": {},
   "outputs": [],
   "source": [
    "classes = ('cloud', 'edge', 'good')"
   ]
  },
  {
   "cell_type": "markdown",
   "metadata": {},
   "source": [
    "Start of training loop"
   ]
  },
  {
   "cell_type": "code",
   "execution_count": 69,
   "metadata": {},
   "outputs": [],
   "source": [
    "import torch.nn.functional as F \n",
    "import numpy as np\n",
    "import matplotlib.pyplot as plt\n",
    "import matplotlib.patches as patches\n",
    "\n",
    "def resize_tensor_images(images, size=(256, 256)):\n",
    "    # Resize the batch of images\n",
    "    return F.interpolate(images, size=size, mode='bilinear', align_corners=False)\n",
    "\n",
    "def compute_mean_std(loader):\n",
    "    # Computation of mean and standard deviation of batches\n",
    "    mean = 0.\n",
    "    std = 0.\n",
    "    total_images_count = 0\n",
    "\n",
    "    for images, _ in loader:\n",
    "        batch_samples = images.size(0)\n",
    "        images = images.view(batch_samples, images.size(1), -1)\n",
    "        mean += images.mean(2).sum(0)\n",
    "        std += images.std(2).sum(0)\n",
    "        total_images_count += batch_samples\n",
    "\n",
    "    mean /= total_images_count\n",
    "    std /= total_images_count\n",
    "\n",
    "    return mean, std\n",
    "\n",
    "def normalize_images(images, mean, std):\n",
    "    # Normalizing images with previously computed mean and standard deviation\n",
    "    normalized_images = (images - mean.view(-1, 1, 1)) / std.view(-1, 1, 1)\n",
    "    return normalized_images\n",
    "    \n",
    "def tensor_to_numpy(tensor):\n",
    "    # Rescale the tensor to 0-1 range\n",
    "    tensor = tensor - tensor.min()\n",
    "    tensor = tensor / tensor.max()\n",
    "    # Move the tensor to CPU if it's on GPU\n",
    "    tensor = tensor.cpu()\n",
    "    # Convert to numpy and transpose from CxHxW to HxWxC for visualization\n",
    "    numpy_image = tensor.numpy()\n",
    "    numpy_image = np.transpose(numpy_image, (1, 2, 0))\n",
    "\n",
    "    return numpy_image"
   ]
  },
  {
   "cell_type": "code",
   "execution_count": 70,
   "metadata": {},
   "outputs": [],
   "source": [
    "mean, std = compute_mean_std(test_loader)"
   ]
  },
  {
   "cell_type": "code",
   "execution_count": 71,
   "metadata": {},
   "outputs": [],
   "source": [
    "def normalization(data_loader, mean, std):\n",
    "    UNPRO_batches = []\n",
    "    batches = []\n",
    "    \n",
    "    for batch in data_loader:\n",
    "        images, labels = batch\n",
    "        resized_images = resize_tensor_images(images)\n",
    "        UNPRO_batches.append((resized_images, labels))\n",
    "        normalized_alldata_images = normalize_images(resized_images, mean, std)\n",
    "\n",
    "        # Append the normalized images and their corresponding labels to the list\n",
    "        batches.append((normalized_alldata_images, labels))\n",
    "    return UNPRO_batches, batches\n",
    "\n",
    "UNPRO_batches_TRL, batches_TRL = normalization(train_loader, mean, std)\n",
    "UNPRO_batches_VAL, batches_VAL = normalization(valid_loader, mean, std)\n",
    "UNPRO_batches_TST, batches_TST = normalization(test_loader, mean, std)\n"
   ]
  },
  {
   "cell_type": "code",
   "execution_count": 72,
   "metadata": {},
   "outputs": [],
   "source": [
    "import torch.nn as nn\n",
    "import torch.nn.functional as F\n",
    "\n",
    "class Net(nn.Module):\n",
    "    def __init__(self):\n",
    "        super().__init__()\n",
    "        self.conv_layer_1 = nn.Sequential(\n",
    "            nn.Conv2d(3, 25, kernel_size=3, padding=1),\n",
    "            nn.BatchNorm2d(25),\n",
    "            nn.ReLU(),\n",
    "            nn.Conv2d(25, 25, kernel_size=3, padding=1),\n",
    "            nn.ReLU(),\n",
    "        )\n",
    "        self.conv_layer_2 = nn.Sequential(\n",
    "            nn.Conv2d(25, 25, kernel_size=3, padding=1),\n",
    "            nn.ReLU(),\n",
    "            nn.Conv2d(25, 25, kernel_size=3, padding=1),\n",
    "            nn.ReLU(),\n",
    "            nn.MaxPool2d(2, 2)\n",
    "        )\n",
    "\n",
    "        self.classifier = nn.Sequential(\n",
    "            nn.Flatten(),\n",
    "            nn.Linear(in_features=409600,\n",
    "                      out_features=3)\n",
    "        )\n",
    "    def forward(self, x):\n",
    "\n",
    "        x = self.conv_layer_1(x)\n",
    "        x = self.conv_layer_2(x)\n",
    "        x = self.classifier(x)\n",
    "\n",
    "        return x\n",
    "    \n",
    "net = Net().to(device)"
   ]
  },
  {
   "cell_type": "code",
   "execution_count": 73,
   "metadata": {},
   "outputs": [],
   "source": [
    "import torch.optim as optim\n",
    "\n",
    "loss_fn = nn.CrossEntropyLoss()\n",
    "optimizer = optim.SGD(net.parameters(), lr=0.0001, momentum=0.9)"
   ]
  },
  {
   "cell_type": "code",
   "execution_count": 74,
   "metadata": {},
   "outputs": [],
   "source": [
    "from torchmetrics import Accuracy\n",
    "accuracy_fn = Accuracy(task=\"multiclass\", num_classes=3).to(device)"
   ]
  },
  {
   "cell_type": "code",
   "execution_count": 75,
   "metadata": {},
   "outputs": [],
   "source": [
    "def train_step(model: torch.nn.Module,\n",
    "               batches,\n",
    "               loss_fn,\n",
    "               optimizer,\n",
    "               accuracy,\n",
    "               device: torch.device = device):\n",
    "    model.train()\n",
    "    train_loss, train_acc = 0, 0\n",
    "\n",
    "    for batch, (images, labels) in enumerate(batches, 0):\n",
    "        \n",
    "        images, labels = images.to(device), labels.to(device)\n",
    "\n",
    "        y_logits = model(images)\n",
    "\n",
    "        # Calculate loss on 1 batch of data\n",
    "        loss = loss_fn(y_logits, labels)\n",
    "        acc = accuracy(y_logits.argmax(dim=-1), labels)\n",
    "        train_loss += loss\n",
    "        train_acc += acc\n",
    "\n",
    "        optimizer.zero_grad()\n",
    "        loss.backward()\n",
    "        optimizer.step()\n",
    "\n",
    "    train_acc = train_acc / len(batches)\n",
    "    train_loss = train_loss / len(batches)\n",
    "\n",
    "    print(f\"Training Accuracy: {train_acc*100:.3f}, Train Loss: {train_loss:.3f}\")\n",
    "    return train_acc, train_loss"
   ]
  },
  {
   "cell_type": "code",
   "execution_count": 76,
   "metadata": {},
   "outputs": [],
   "source": [
    "def validation_step(model,\n",
    "              batches,\n",
    "              loss_fn,\n",
    "              accuracy,\n",
    "              device: torch.device = device):\n",
    "    validation_loss, validation_acc = 0, 0\n",
    "    model.eval()\n",
    "    with torch.inference_mode():\n",
    "        for images_validation, labels_validation in batches:\n",
    "            images_validation, labels_validation = images_validation.to(device), labels_validation.to(device)\n",
    "            \n",
    "            validation_logits = model(images_validation)\n",
    "            validation_loss += loss_fn(validation_logits, labels_validation)\n",
    "            validation_acc += accuracy(validation_logits.argmax(dim=-1), labels_validation)\n",
    "\n",
    "        validation_loss /= len(batches)\n",
    "        validation_acc /= len(batches)\n",
    "    print(f\"Validation Loss: {validation_loss:.4f}, Validation Accuracy: {validation_acc*100:.4f}%\")\n",
    "    return validation_acc, validation_loss"
   ]
  },
  {
   "cell_type": "code",
   "execution_count": 77,
   "metadata": {},
   "outputs": [],
   "source": [
    "def test_step(model,\n",
    "              batches,\n",
    "              loss_fn,\n",
    "              accuracy,\n",
    "              device: torch.device = device):\n",
    "    validation_loss, validation_acc = 0, 0\n",
    "    model.eval()\n",
    "    with torch.inference_mode():\n",
    "        for images_validation, labels_validation in batches:\n",
    "            images_validation, labels_validation = images_validation.to(device), labels_validation.to(device)\n",
    "            \n",
    "            validation_logits = model(images_validation)\n",
    "            validation_loss += loss_fn(validation_logits, labels_validation)\n",
    "            validation_acc += accuracy(validation_logits.argmax(dim=-1), labels_validation)\n",
    "\n",
    "        validation_loss /= len(batches)\n",
    "        validation_acc /= len(batches)\n",
    "    print(f\"Test Loss: {validation_loss:.4f}, Test Accuracy: {validation_acc*100:.4f}%\")\n",
    "    return validation_acc, validation_loss"
   ]
  },
  {
   "cell_type": "code",
   "execution_count": 78,
   "metadata": {},
   "outputs": [
    {
     "name": "stdout",
     "output_type": "stream",
     "text": [
      "Training Accuracy: 36.786, Train Loss: 1.091\n",
      "Validation Loss: 1.0386, Validation Accuracy: 49.5536%\n",
      "Test Loss: 1.0609, Test Accuracy: 39.7321%\n",
      "Training Accuracy: 47.054, Train Loss: 1.036\n",
      "Validation Loss: 1.0005, Validation Accuracy: 49.5536%\n",
      "Test Loss: 1.0405, Test Accuracy: 39.7321%\n",
      "Training Accuracy: 53.929, Train Loss: 1.017\n",
      "Validation Loss: 0.9702, Validation Accuracy: 62.9464%\n",
      "Test Loss: 0.9754, Test Accuracy: 60.7143%\n",
      "Training Accuracy: 60.179, Train Loss: 0.983\n",
      "Validation Loss: 0.9503, Validation Accuracy: 64.5089%\n",
      "Test Loss: 0.9386, Test Accuracy: 60.7143%\n",
      "Training Accuracy: 61.339, Train Loss: 0.949\n",
      "Validation Loss: 0.9263, Validation Accuracy: 64.5089%\n",
      "Test Loss: 0.9186, Test Accuracy: 60.7143%\n",
      "Training Accuracy: 61.964, Train Loss: 0.918\n",
      "Validation Loss: 0.8954, Validation Accuracy: 64.5089%\n",
      "Test Loss: 0.8870, Test Accuracy: 60.7143%\n",
      "Training Accuracy: 62.857, Train Loss: 0.893\n",
      "Validation Loss: 0.8690, Validation Accuracy: 64.5089%\n",
      "Test Loss: 0.8570, Test Accuracy: 62.2768%\n",
      "Training Accuracy: 63.750, Train Loss: 0.872\n",
      "Validation Loss: 0.8501, Validation Accuracy: 66.0714%\n",
      "Test Loss: 0.8408, Test Accuracy: 62.2768%\n",
      "Training Accuracy: 63.750, Train Loss: 0.854\n",
      "Validation Loss: 0.8340, Validation Accuracy: 66.0714%\n",
      "Test Loss: 0.8284, Test Accuracy: 62.2768%\n",
      "Training Accuracy: 64.643, Train Loss: 0.838\n",
      "Validation Loss: 0.8182, Validation Accuracy: 66.0714%\n",
      "Test Loss: 0.8144, Test Accuracy: 67.4107%\n",
      "Training Accuracy: 64.643, Train Loss: 0.825\n",
      "Validation Loss: 0.8047, Validation Accuracy: 66.0714%\n",
      "Test Loss: 0.8028, Test Accuracy: 68.9732%\n",
      "Training Accuracy: 64.643, Train Loss: 0.813\n",
      "Validation Loss: 0.7944, Validation Accuracy: 66.0714%\n",
      "Test Loss: 0.7939, Test Accuracy: 70.5357%\n",
      "Training Accuracy: 66.250, Train Loss: 0.803\n",
      "Validation Loss: 0.7861, Validation Accuracy: 66.0714%\n",
      "Test Loss: 0.7857, Test Accuracy: 70.5357%\n",
      "Training Accuracy: 66.250, Train Loss: 0.792\n",
      "Validation Loss: 0.7774, Validation Accuracy: 66.0714%\n",
      "Test Loss: 0.7775, Test Accuracy: 70.5357%\n",
      "Training Accuracy: 65.804, Train Loss: 0.782\n",
      "Validation Loss: 0.7709, Validation Accuracy: 66.0714%\n",
      "Test Loss: 0.7712, Test Accuracy: 70.5357%\n",
      "Training Accuracy: 65.804, Train Loss: 0.772\n",
      "Validation Loss: 0.7640, Validation Accuracy: 66.0714%\n",
      "Test Loss: 0.7638, Test Accuracy: 70.5357%\n",
      "Training Accuracy: 65.804, Train Loss: 0.763\n",
      "Validation Loss: 0.7583, Validation Accuracy: 66.0714%\n",
      "Test Loss: 0.7577, Test Accuracy: 70.5357%\n",
      "Training Accuracy: 66.696, Train Loss: 0.753\n",
      "Validation Loss: 0.7514, Validation Accuracy: 66.0714%\n",
      "Test Loss: 0.7505, Test Accuracy: 70.5357%\n",
      "Training Accuracy: 66.696, Train Loss: 0.743\n",
      "Validation Loss: 0.7464, Validation Accuracy: 67.6339%\n",
      "Test Loss: 0.7447, Test Accuracy: 72.0982%\n",
      "Training Accuracy: 67.143, Train Loss: 0.733\n",
      "Validation Loss: 0.7393, Validation Accuracy: 67.6339%\n",
      "Test Loss: 0.7372, Test Accuracy: 72.0982%\n"
     ]
    }
   ],
   "source": [
    "\n",
    "epochs = 20\n",
    "\n",
    "for epoch in range(epochs):\n",
    "    train_step(model=net,\n",
    "               batches=batches_TRL,\n",
    "               loss_fn=loss_fn,\n",
    "               optimizer=optimizer,\n",
    "               accuracy=accuracy_fn,\n",
    "               device=device\n",
    "               )\n",
    "    validation_step(model=net,\n",
    "              batches=batches_VAL,\n",
    "              loss_fn=loss_fn,\n",
    "              accuracy=accuracy_fn,\n",
    "              device=device)\n",
    "    test_step(model=net,\n",
    "              batches=batches_TST,\n",
    "              loss_fn=loss_fn,\n",
    "              accuracy=accuracy_fn,\n",
    "              device=device)"
   ]
  }
 ],
 "metadata": {
  "kernelspec": {
   "display_name": "OMICRON",
   "language": "python",
   "name": "python3"
  },
  "language_info": {
   "codemirror_mode": {
    "name": "ipython",
    "version": 3
   },
   "file_extension": ".py",
   "mimetype": "text/x-python",
   "name": "python",
   "nbconvert_exporter": "python",
   "pygments_lexer": "ipython3",
   "version": "3.11.6"
  }
 },
 "nbformat": 4,
 "nbformat_minor": 2
}
